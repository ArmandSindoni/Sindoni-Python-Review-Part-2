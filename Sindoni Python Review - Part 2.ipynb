{
 "cells": [
  {
   "cell_type": "markdown",
   "metadata": {},
   "source": [
    "# Python Review #2\n",
    "\n",
    "Using what you learned in the modules, answer the questions below. Take your time and use all the information in the modules as your guide and resource. This isn't about memorization - this is about practicing skills! Good Luck!"
   ]
  },
  {
   "cell_type": "markdown",
   "metadata": {},
   "source": [
    "## Module 4 Review"
   ]
  },
  {
   "cell_type": "markdown",
   "metadata": {},
   "source": [
    "#### REMOVING VALUES FROM LIST\n",
    "\n",
    "Lists are changeable, which means you can remove values to a list after you have defined the list initially. \n",
    "\n",
    "The .pop() function will remove a single item from your list. This function allows you to only remove a single value at a time. You have the option to provide the function with the index-position of where the item you want to remove is located. However, if you don't specify a specific index, the function will automatically remove the last item from the list. To use the function, see an example below:\n",
    "\n",
    "    list_name.pop( index_of_item_to_remove )\n",
    "    \n",
    "    colors.pop(3)\n",
    "    \n",
    "The .remove() function will remove a specific item from a list (you provide the item label/value and the function will search and remove that specific item). If an item/value is repeated within your list, this function will only remove the first instance. To use the function, see an example below:\n",
    "\n",
    "    list_name.remove( item_to_remove )\n",
    "    \n",
    "    colors.remove(\"green-3\")\n",
    "    \n",
    "1. Create a list of shapes below. This list should have at least 3 values. Print the list. \n",
    "2. Use the pop function to remove a shape from your list. Print the list.\n",
    "3. Use the remove function to remove a shape to your list. You should remove the shape in index position 2. Print your list.\n",
    "4. Use the pop function to remove the last item in your list. Print the list. "
   ]
  },
  {
   "cell_type": "code",
   "execution_count": 6,
   "metadata": {},
   "outputs": [
    {
     "name": "stdout",
     "output_type": "stream",
     "text": [
      "['oval', 'pentagon', 'square', 'Rhombus', 'nonagon']\n"
     ]
    }
   ],
   "source": [
    "shapes = [\"oval\", \"pentagon\", \"square\", \"Rhombus\", \"nonagon\"]\n",
    "print(shapes)"
   ]
  },
  {
   "cell_type": "code",
   "execution_count": 7,
   "metadata": {},
   "outputs": [
    {
     "name": "stdout",
     "output_type": "stream",
     "text": [
      "['oval', 'pentagon', 'square', 'Rhombus']\n"
     ]
    }
   ],
   "source": [
    "shapes.pop(4)\n",
    "print(shapes)"
   ]
  },
  {
   "cell_type": "code",
   "execution_count": 8,
   "metadata": {},
   "outputs": [
    {
     "name": "stdout",
     "output_type": "stream",
     "text": [
      "['oval', 'pentagon', 'Rhombus']\n"
     ]
    }
   ],
   "source": [
    "shapes.remove(\"square\")\n",
    "print(shapes)"
   ]
  },
  {
   "cell_type": "code",
   "execution_count": 11,
   "metadata": {},
   "outputs": [
    {
     "name": "stdout",
     "output_type": "stream",
     "text": [
      "['oval', 'pentagon']\n"
     ]
    }
   ],
   "source": [
    "shapes.pop(2)\n",
    "print(shapes)"
   ]
  },
  {
   "cell_type": "markdown",
   "metadata": {},
   "source": [
    "#### SORTING A LIST\n",
    "\n",
    "The .sort() function allows you to re-order a list in ascending or descending order. If the list includes only numbers, this means the numbers will be ordered from least to greatest (or from greatest to least). If the list includes strings/text, the list will be sorted in alphabetical order (or reverse alphabetical order). To use the function, see the example below: \n",
    "\n",
    "        list_name.sort() >> by default, this will sort the list in ascending order\n",
    "        colors.sort()\n",
    "        \n",
    "To change the direction in which items are sorted, you can add an option within the parentheses that sorts the list in the reverse direction (reverse = True). See the example below:\n",
    "        \n",
    "        list_name.sort(reverse = True)\n",
    "        colors.sort(reverse = True)\n",
    "\n",
    "1. Create a list of 4 integers. Print the list. \n",
    "2. Sort the list in ascending order. \n",
    "3. In a new cell, sort the same list in descending order. "
   ]
  },
  {
   "cell_type": "code",
   "execution_count": 13,
   "metadata": {},
   "outputs": [
    {
     "name": "stdout",
     "output_type": "stream",
     "text": [
      "[2, 6, 8, 11, 19, 42]\n"
     ]
    }
   ],
   "source": [
    "integers = [2, 8, 6, 42, 11, 19]\n",
    "integers.sort()\n",
    "print(integers)"
   ]
  },
  {
   "cell_type": "code",
   "execution_count": 14,
   "metadata": {},
   "outputs": [
    {
     "name": "stdout",
     "output_type": "stream",
     "text": [
      "[42, 19, 11, 8, 6, 2]\n"
     ]
    }
   ],
   "source": [
    "integers.sort(reverse = True)\n",
    "print(integers)"
   ]
  },
  {
   "cell_type": "markdown",
   "metadata": {},
   "source": [
    "#### FOR-LOOPS\n",
    "\n",
    "Python has several types of loops that are used to iterate through a set of information. <b>For Loops</b> are used to apply a function on each item in a specific list. For example, if you want to apply the print() function to each item in a list (aka you want to individually print out each item listed), you can do so with a for loop. The basic structure of a for-loop is as follows:\n",
    "\n",
    "        for item in list_of_items:\n",
    "            statement 1\n",
    "            statement 2\n",
    "            statement 3\n",
    "\n",
    "This can be read as \"For each Item in the list of Items, perform the following tasks...\". The for loop will then take each item in the list - one by one - and apply the specific statements to each item. See below for an example:\n",
    "    \n",
    "    my_list = [\"a\", \"b\", \"c\", \"d\"]\n",
    "    \n",
    "Below I'm going to create a for loop that will iterate through my_list and print each item from the list. In the for loop, the \"i\" stands for item.\n",
    "\n",
    "    for i in my_list:\n",
    "        print (i)\n",
    "The output for the for-loop with be as follows:\n",
    "\n",
    "    a\n",
    "    b\n",
    "    c\n",
    "    d\n",
    "\n",
    "Complete the code below to create a series of for-loops. "
   ]
  },
  {
   "cell_type": "code",
   "execution_count": 15,
   "metadata": {},
   "outputs": [
    {
     "name": "stdout",
     "output_type": "stream",
     "text": [
      "red\n",
      "orange\n",
      "purple\n",
      "white\n",
      "green\n"
     ]
    }
   ],
   "source": [
    "colors = [\"red\", \"orange\", \"purple\", \"white\", \"green\"]\n",
    "\n",
    "## using the list above, create a for-loop that prints each color from the list\n",
    "for i in colors:\n",
    "    print(i)"
   ]
  },
  {
   "cell_type": "code",
   "execution_count": 16,
   "metadata": {},
   "outputs": [
    {
     "name": "stdout",
     "output_type": "stream",
     "text": [
      "soda 4\n",
      "coffee 6\n",
      "tea 3\n",
      "milk 4\n",
      "water 5\n"
     ]
    }
   ],
   "source": [
    "drinks = [\"soda\", \"coffee\", \"tea\", \"milk\", \"water\"]\n",
    "\n",
    "## using the list above, create a for-loop that prints the name of each color and the length of each string \n",
    "# how many characters are in the name of the color?\n",
    "for i in drinks:\n",
    "    print((i), len(i))\n"
   ]
  },
  {
   "cell_type": "code",
   "execution_count": 17,
   "metadata": {},
   "outputs": [
    {
     "name": "stdout",
     "output_type": "stream",
     "text": [
      "My favorite drink is soda.\n",
      "My favorite drink is coffee.\n",
      "My favorite drink is tea.\n",
      "My favorite drink is milk.\n",
      "My favorite drink is water.\n"
     ]
    }
   ],
   "source": [
    "drinks = [\"soda\", \"coffee\", \"tea\", \"milk\", \"water\"]\n",
    "\n",
    "## using the same drinks list, create a for-loop that prints the sentence \"My favorite drink is ..\" and then fill in the name of each color\n",
    "for i in drinks:\n",
    "    print(f\"My favorite drink is {i}.\")\n"
   ]
  },
  {
   "cell_type": "code",
   "execution_count": 18,
   "metadata": {},
   "outputs": [
    {
     "name": "stdout",
     "output_type": "stream",
     "text": [
      "15\n",
      "25\n",
      "35\n",
      "45\n",
      "55\n"
     ]
    }
   ],
   "source": [
    "numbers = [10, 20, 30, 40, 50]\n",
    "\n",
    "## using the list above, create a for-loop that adds 5 to each value in the list and then prints the value \n",
    "for i in numbers:\n",
    "    print(i + 5)\n"
   ]
  },
  {
   "cell_type": "markdown",
   "metadata": {},
   "source": [
    "#### RANGE FUNCTION \n",
    "\n",
    "The range function creates a sequence of numbers starting from a given integer and stopping before a given integer (inclusive -> exclusive). The range function can be useful when incorporated into loops. The range function defaults to a 0 starting value but this can be altered, for example:\n",
    "\n",
    "        range(0, 10) returns the values 0 through 9\n",
    "        range(0, 11) returns the values 0 through 10\n",
    "        range(2, 7) returns the values 2 through 6\n",
    "        range(-1, 10) returns the values -1 through 9\n",
    "        \n",
    "To use the range function, you can include it in a for-loop. The for-loop will iterate through the list of numbers and print them out one by one. Below I'm going to create a for loop that will iterate through a sequence of numbers and print each number. In the for loop, the \"i\" stands for integer.\n",
    "\n",
    "    for i in range(0, 6):\n",
    "        print (i)\n",
    "        \n",
    "This can be read as \"For each integer in the range 0 through 10, print the integer\". The output for the for-loop with be as follows:\n",
    "\n",
    "    1\n",
    "    2\n",
    "    3\n",
    "    4\n",
    "    5\n",
    "\n",
    "Complete the code below to create a series of for-loops using the range function. "
   ]
  },
  {
   "cell_type": "code",
   "execution_count": 19,
   "metadata": {},
   "outputs": [
    {
     "name": "stdout",
     "output_type": "stream",
     "text": [
      "0\n",
      "1\n",
      "2\n",
      "3\n"
     ]
    }
   ],
   "source": [
    "## complete the code to print a list of integers ranging from 0 to 3.\n",
    "\n",
    "for i in range(0,4):\n",
    "    print(i)"
   ]
  },
  {
   "cell_type": "code",
   "execution_count": 20,
   "metadata": {},
   "outputs": [
    {
     "name": "stdout",
     "output_type": "stream",
     "text": [
      "-1\n",
      "0\n",
      "1\n",
      "2\n",
      "3\n",
      "4\n",
      "5\n",
      "6\n",
      "7\n",
      "8\n",
      "9\n"
     ]
    }
   ],
   "source": [
    "## complete the code to print a list of integers ranging from -1 to 9.\n",
    "\n",
    "for i in range(-1,10):\n",
    "    print(i)"
   ]
  },
  {
   "cell_type": "code",
   "execution_count": 22,
   "metadata": {},
   "outputs": [
    {
     "name": "stdout",
     "output_type": "stream",
     "text": [
      "5\n",
      "6\n",
      "7\n",
      "8\n",
      "9\n",
      "10\n"
     ]
    }
   ],
   "source": [
    "## complete the code to add 5 to a series of integers ranging from 0 to 5.\n",
    "\n",
    "for i in range(0,6):\n",
    "    i = i + 5\n",
    "    print(i)"
   ]
  },
  {
   "cell_type": "code",
   "execution_count": 23,
   "metadata": {},
   "outputs": [
    {
     "name": "stdout",
     "output_type": "stream",
     "text": [
      "10\n",
      "20\n",
      "30\n",
      "40\n",
      "50\n",
      "60\n",
      "70\n",
      "80\n"
     ]
    }
   ],
   "source": [
    "## complete the code to multiply a series of integers ranging from 1 to 8 by 10. \n",
    "\n",
    "for i in range(1,9):\n",
    "    i = i * 10\n",
    "    print(i)"
   ]
  },
  {
   "cell_type": "markdown",
   "metadata": {},
   "source": [
    "#### WHILE LOOPS\n",
    "\n",
    "The while loop is another type of Python loop. With the while loop, we can execute a set of statements as long as a condition is true. That condition is listed at the top of the statement and underneath the statement is where you will list all the items you want executed while that statement is true. For example:\n",
    "\n",
    "    i = 1\n",
    "    \n",
    "    while i < 6:\n",
    "        print(i)\n",
    "\n",
    "The above while loop will print the value of \"i\" for as long as \"i\" is less than 6. This is because the condition that is being checked for truth is \"i < 6\". If this is true, the loop continues (indefinitely) - but as soon as this statement is no longer true, the loop will stop. The above loop is an infinity loop and will never stop running. This is because the value of \"i\" is always going to be 1 - which is always going to be less than 6, which means the conditional statement will never be untrue. We can modify our code so that this is not an infinity loop by adding a statement that adds \"1\" to the value of \"i\" after each successful loop. \n",
    "\n",
    "    i = 1\n",
    "    \n",
    "    while i < 6:\n",
    "        print(i)\n",
    "        i = i + 1\n",
    "        \n",
    "The loop will flow in the following way:\n",
    "\n",
    "1. Check the conditional statement for truth (is i less than 6?); if yes, continue to the first statement underneath; if no, end the loop. \n",
    "2. The starting value of \"i\" is 1, therefore, the conditional statement is true. We can continue with the first statement listed underneath the conditional statement. \n",
    "3. We print the value of \"i\" because that is the first item listed underneath the conditional statement. On the first iteration of the loop, this means we are printing the value \"1\". \n",
    "4. We continue executing the statements underneath the conditional statement in the order they are listed. The next statement is i = i + 1 (this can also be written as i += 1); this means we are going to take whatever the value of \"i\" is and add 1 to it. Then we are going to save that result as the new value of \"i\". This is going to happen at the end of each successful loop. At the end of the first loop, \"i\" will have a value of \"2\". \n",
    "5. We've reached the end of our listed statements under the conditional statement, now it is time to go back to the top of the list and try everything again for iteration #2. \n",
    "6. Start again at the conditional statement - at the beginning of each iteration, the conditional statement is re-checked for truth. If it is still true, we cycle through the listed statements again (print the value of \"i\" and add 1 to the current value of \"i\"). \n",
    "7. This cycle will continue until the conditional statement is no longer true; therefore, in this example, this cycle will continue until \"i\" is greater than \n",
    "\n",
    "\n",
    "Complete the code below to execute a series of while loops. "
   ]
  },
  {
   "cell_type": "code",
   "execution_count": 25,
   "metadata": {},
   "outputs": [
    {
     "name": "stdout",
     "output_type": "stream",
     "text": [
      "0\n",
      "1\n",
      "2\n"
     ]
    }
   ],
   "source": [
    "## complete the code below to prevent the while loop from becoming an infinity loop\n",
    "## add a line of code to stop the loop after 3 iterations\n",
    "\n",
    "i = 0\n",
    "\n",
    "while i < 3:\n",
    "    print(i)\n",
    "    i = i + 1\n",
    "    "
   ]
  },
  {
   "cell_type": "code",
   "execution_count": 26,
   "metadata": {},
   "outputs": [
    {
     "name": "stdout",
     "output_type": "stream",
     "text": [
      "181 degrees is too hot to drink your tea, let it cool.\n",
      "175 degrees is too hot to drink your tea, let it cool.\n",
      "169 degrees is too hot to drink your tea, let it cool.\n",
      "163 degrees is too hot to drink your tea, let it cool.\n",
      "157 degrees is too hot to drink your tea, let it cool.\n",
      "151 degrees is too hot to drink your tea, let it cool.\n",
      "145 degrees is too hot to drink your tea, let it cool.\n",
      "139 degrees is too hot to drink your tea, let it cool.\n",
      "Your tea is 133 and cool enough to drink. Enjoy!\n"
     ]
    }
   ],
   "source": [
    "## each minute you let your tea sit, it cools down 6 degrees. \n",
    "## how many minutes pass before you can drink your tea? #47 minutes\n",
    "## run the while-loop below and count the number of loops it made. #8\n",
    "\n",
    "temp = 181\n",
    "\n",
    "while temp > 135:\n",
    "    print(f\"{temp} degrees is too hot to drink your tea, let it cool.\")\n",
    "    temp = temp - 6\n",
    "    \n",
    "print(f\"Your tea is {temp} and cool enough to drink. Enjoy!\")"
   ]
  },
  {
   "cell_type": "code",
   "execution_count": 27,
   "metadata": {},
   "outputs": [
    {
     "name": "stdout",
     "output_type": "stream",
     "text": [
      "1\n",
      "2\n",
      "3\n",
      "4\n",
      "5\n",
      "6\n",
      "7\n",
      "8\n",
      "9\n",
      "10\n"
     ]
    }
   ],
   "source": [
    "## create a while loop that returns numbers 1 through 10\n",
    "## once you get to 10, the loop should naturally end\n",
    "\n",
    "i = 1\n",
    "while i < 11:\n",
    "    print(i)\n",
    "    i = i + 1"
   ]
  },
  {
   "cell_type": "markdown",
   "metadata": {},
   "source": [
    "## Module 5 Review"
   ]
  },
  {
   "cell_type": "markdown",
   "metadata": {},
   "source": [
    "#### DICTIONARIES\n",
    "\n",
    "A dictionary is another Python data type that holds a collection of items within one variable name. Unlike a list or tuples, dictionaries don't hold single values - they hold paired values. Each pair is called an <b>item</b>, and each item contains a <b>key</b> and a <b>value</b>. The key is separated by a value with a \" : \" and each item within the dictionary is separated by a comma. The entire dictionary is contained within curly brackets ( {} ). See below for an example:\n",
    "\n",
    "    my_dictionary = {key_1 : value_1, key_2 : value_2, key_3 : value_3...}\n",
    "\n",
    "A dictionary is ordered (it can be indexed), changeable (you can add, remove, and manipulate the items within), and it does not allow for duplicate keys. \n",
    "\n",
    "1. Create a dictionary called \"roommates\". This dictionary will include only two items - the name and age of each person living in a house. The name is the KEY and the age is the VALUE. Print the dictionary. Use the following information to construct the dictionary:\n",
    "    * Sarah is 19 years old\n",
    "    * Margaret is 23 years old"
   ]
  },
  {
   "cell_type": "code",
   "execution_count": 30,
   "metadata": {},
   "outputs": [],
   "source": [
    "roomates = {19 : \"Sarah\", 23 : \"Margaret\"}"
   ]
  },
  {
   "cell_type": "markdown",
   "metadata": {},
   "source": [
    "#### ACCESSING A DICTIONARY P1\n",
    "\n",
    "Identifying the items that are stored within your dictionary allows you to understand what the dictionary includes. Use the .get() function to retrieve a value from your dictionary. The .get() function requires you to input a dictionary KEY and it will return the value associated with that specific KEY. To use the function, follow the example below:\n",
    "\n",
    "    my_dictionary = [key1 : value1, key2 : value2]\n",
    "    \n",
    "To get the value of \"value2\" we can use the .get() function in the following way:\n",
    "    \n",
    "    my_dictionary.get(\"key2\")\n",
    "    \n",
    "The function will search for the specific key and return whichever value is associated with that key. \n",
    "\n",
    "Complete the code below to retrieve specific values from a dictionary that contains the first and last names of famous people throughout history. In this example, the keys are the first names and the values are the last names. "
   ]
  },
  {
   "cell_type": "code",
   "execution_count": 31,
   "metadata": {},
   "outputs": [],
   "source": [
    "## run this cell to define the dictionary\n",
    "\n",
    "famous = {\"Marilyn\":\"Monroe\", \"Ab\":\"Lincoln\", \"Nelson\":\"Mandela\", \"Bill\":\"Gates\", \"Charles\":\"Darwin\", \"Rosa\":\"Parks\", \"John\":\"Lennon\", \"Pablo\":\"Picasso\"}"
   ]
  },
  {
   "cell_type": "code",
   "execution_count": 37,
   "metadata": {},
   "outputs": [
    {
     "data": {
      "text/plain": [
       "'Mandela'"
      ]
     },
     "execution_count": 37,
     "metadata": {},
     "output_type": "execute_result"
    }
   ],
   "source": [
    "## get the last name of the person called \"Nelson\"\n",
    "\n",
    "famous.get(\"Nelson\")"
   ]
  },
  {
   "cell_type": "code",
   "execution_count": 38,
   "metadata": {},
   "outputs": [
    {
     "data": {
      "text/plain": [
       "'Parks'"
      ]
     },
     "execution_count": 38,
     "metadata": {},
     "output_type": "execute_result"
    }
   ],
   "source": [
    "## get the last name of the person called \"Rosa\"\n",
    "famous.get(\"Rosa\")\n"
   ]
  },
  {
   "cell_type": "code",
   "execution_count": 39,
   "metadata": {},
   "outputs": [
    {
     "data": {
      "text/plain": [
       "'Lennon'"
      ]
     },
     "execution_count": 39,
     "metadata": {},
     "output_type": "execute_result"
    }
   ],
   "source": [
    "## get the last name of the person called \"John\"\n",
    "famous.get(\"John\")\n"
   ]
  },
  {
   "cell_type": "markdown",
   "metadata": {},
   "source": [
    "#### ACCESSING A DICTIONARY P2\n",
    "\n",
    "Identifying the items that are stored within your dictionary allows you to understand what the dictionary includes. Use the .keys() function to return a list of all the keys in your dictionary. To use the function, look at the example below:\n",
    "\n",
    "    my_dictionary = [key1 : value1, key2 : value2]\n",
    "\n",
    "To get a list of all the keys stored in the dictionary, use the following code:\n",
    "\n",
    "    my_dictionary.keys()\n",
    "    \n",
    "The output for this code will be:\n",
    "\n",
    "    key1\n",
    "    key2\n",
    "    \n",
    "Complete the code below to retrieve all the keys associated with the dictionary of famous people. "
   ]
  },
  {
   "cell_type": "code",
   "execution_count": null,
   "metadata": {},
   "outputs": [],
   "source": [
    "## run this cell to define the dictionary\n",
    "\n",
    "famous = {\"Marilyn\":\"Monroe\", \"Ab\":\"Lincoln\", \"Nelson\":\"Mandela\", \"Bill\":\"Gates\", \"Charles\":\"Darwin\", \"Rosa\":\"Parks\", \"John\":\"Lennon\", \"Pablo\":\"Picasso\"}"
   ]
  },
  {
   "cell_type": "code",
   "execution_count": 40,
   "metadata": {},
   "outputs": [
    {
     "data": {
      "text/plain": [
       "dict_keys(['Marilyn', 'Ab', 'Nelson', 'Bill', 'Charles', 'Rosa', 'John', 'Pablo'])"
      ]
     },
     "execution_count": 40,
     "metadata": {},
     "output_type": "execute_result"
    }
   ],
   "source": [
    "## write the code to retrive all the keys associated with this dictionary\n",
    "\n",
    "famous.keys()"
   ]
  },
  {
   "cell_type": "markdown",
   "metadata": {},
   "source": [
    "#### ACCESSING A DICTIONARY P3\n",
    "\n",
    "Identifying the items that are stored within your dictionary allows you to understand what the dictionary includes. Use the .values() function to return a list of all the values in your dictionary. To use the function, look at the example below:\n",
    "\n",
    "    my_dictionary = [key1 : value1, key2 : value2]\n",
    "\n",
    "To get a list of all the values stored in the dictionary, use the following code:\n",
    "\n",
    "    my_dictionary.values()\n",
    "    \n",
    "The output for this code will be:\n",
    "\n",
    "    value1\n",
    "    value2\n",
    "    \n",
    "Complete the code below to retrieve all the values associated with the dictionary of famous people. "
   ]
  },
  {
   "cell_type": "code",
   "execution_count": 41,
   "metadata": {},
   "outputs": [],
   "source": [
    "## run this cell to define the dictionary\n",
    "\n",
    "famous = {\"Marilyn\":\"Monroe\", \"Ab\":\"Lincoln\", \"Nelson\":\"Mandela\", \"Bill\":\"Gates\", \"Charles\":\"Darwin\", \"Rosa\":\"Parks\", \"John\":\"Lennon\", \"Pablo\":\"Picasso\"}"
   ]
  },
  {
   "cell_type": "code",
   "execution_count": 42,
   "metadata": {},
   "outputs": [
    {
     "data": {
      "text/plain": [
       "dict_values(['Monroe', 'Lincoln', 'Mandela', 'Gates', 'Darwin', 'Parks', 'Lennon', 'Picasso'])"
      ]
     },
     "execution_count": 42,
     "metadata": {},
     "output_type": "execute_result"
    }
   ],
   "source": [
    "## write the code to retrive all the values associated with this dictionary\n",
    "famous.values()"
   ]
  },
  {
   "cell_type": "markdown",
   "metadata": {},
   "source": [
    "#### CHANGING DICTIONARY ITEMS\n",
    "\n",
    "Dictionaries are changeable -- meaning you can add, remove, and modify items stored within the dictionary. To modify or edit items within your dictionary, you can use the .update() function. You can use this function to update a value given a specific key. To use the function, see the example below:\n",
    "\n",
    "    my_dictionary = [key1 : value1, key2 : value2]\n",
    "    \n",
    "I want to update the second item to \"value_2\". See below for the code to do this:\n",
    "\n",
    "    my_dictionary.update({\"key_name\" : \"new_value\"})\n",
    "    \n",
    "Within the parentheses of the update() function, you will add a mini dictionary of the items you want to update. This includes adding the curly brackets around the items you want to modify. For example:\n",
    "\n",
    "    my_dictionary.update({\"key2\" : \"value_2\"})\n",
    "    \n",
    "This will change my dictionary from the original to this:\n",
    "\n",
    "    my_dictionary = [key1 : value1, key2 : value_2]\n",
    "    \n",
    "1. Using the dictionary 'famous' shown above, update the last name of Marilyn Monroe to \"Mortenson\". The key should stay the same, you are just updating the value. "
   ]
  },
  {
   "cell_type": "code",
   "execution_count": 44,
   "metadata": {},
   "outputs": [],
   "source": [
    "famous.update({\"Marilyn\" : \"Mortenson\"})"
   ]
  },
  {
   "cell_type": "code",
   "execution_count": 45,
   "metadata": {},
   "outputs": [
    {
     "data": {
      "text/plain": [
       "'Mortenson'"
      ]
     },
     "execution_count": 45,
     "metadata": {},
     "output_type": "execute_result"
    }
   ],
   "source": [
    "famous.get(\"Marilyn\")"
   ]
  },
  {
   "cell_type": "markdown",
   "metadata": {},
   "source": [
    "#### ADDING ITEMS TO DICTIONARY \n",
    "\n",
    "You can use the .update() function to add new items to a dictionary. To do this, follow the same steps as above but when you create your 'mini dictionary', you can insert 1 or multiple new entries. \n",
    "\n",
    "    my_dictionary = [key1 : value1, key2 : value2]\n",
    "\n",
    "I want to add two additional items to the end of my dictionary.\n",
    "\n",
    "    my_dictionary.update({\"key3\" : \"value3\", \"key4\" : \"value4\"})\n",
    "    \n",
    "If I run the above code, my dictionary will change from the original to the following:\n",
    "\n",
    "    my_dictionary = [key1 : value1, key2 : value2, key3 : value3, key4 : value4]\n",
    "    \n",
    "Using the famous dictionary shown above, add two additional famous people to the end of the list using the update() function. "
   ]
  },
  {
   "cell_type": "code",
   "execution_count": 46,
   "metadata": {},
   "outputs": [],
   "source": [
    "famous.update({\"Rod\" : \"Serling\", \"Bo\" : \"Jackson\"})"
   ]
  },
  {
   "cell_type": "code",
   "execution_count": 47,
   "metadata": {},
   "outputs": [
    {
     "name": "stdout",
     "output_type": "stream",
     "text": [
      "{'Marilyn': 'Mortenson', 'Ab': 'Lincoln', 'Nelson': 'Mandela', 'Bill': 'Gates', 'Charles': 'Darwin', 'Rosa': 'Parks', 'John': 'Lennon', 'Pablo': 'Picasso', 'Rod': 'Serling', 'Bo': 'Jackson'}\n"
     ]
    }
   ],
   "source": [
    "print(famous)"
   ]
  },
  {
   "cell_type": "markdown",
   "metadata": {},
   "source": [
    "#### REMOVING ITEMS FROM DICTIONARY\n",
    "\n",
    "You can use several functions to remove items from your dictionary. The most important functions to remember are:\n",
    "    \n",
    "<b> .pop() function removes a specific item given a specific key </b>\n",
    "    \n",
    "    my_dictionary = [key1 : value1, key2 : value2]\n",
    "    \n",
    "    my_dictionary.pop(\"key1\") >> this will remove the key-value pair with key \"key1\"\n",
    "    \n",
    "<b> .popitem() function removes the last item listed in the dictionary </b>\n",
    "\n",
    "    my_dictionary = [key1 : value1, key2 : value2]\n",
    "    \n",
    "    my_dictionary.popitem() >> this will remove the last item in the dictionary\n",
    "    \n",
    "<b> .clear() function removes all items from a dictionary </b>\n",
    "\n",
    "    my_dictionary = [key1 : value1, key2 : value2]\n",
    "    \n",
    "    my_dictionary.clear() >> this will remove all items from the dictionary\n",
    "    \n",
    "Using the famous dictionary below, answer the following questions:\n",
    "1. Remove \"Bill Gates\" from the dictionary. Print the dictionary. \n",
    "2. Remove \"John Lennon\" from the dictionary. Print the dictionary. \n",
    "3. Remove the last item from the dictionary. Print the dictionary. "
   ]
  },
  {
   "cell_type": "code",
   "execution_count": 48,
   "metadata": {},
   "outputs": [],
   "source": [
    "## run this cell to define the dictionary\n",
    "\n",
    "famous = {\"Marilyn\":\"Monroe\", \"Ab\":\"Lincoln\", \"Nelson\":\"Mandela\", \"Bill\":\"Gates\", \"Charles\":\"Darwin\", \"Rosa\":\"Parks\", \"John\":\"Lennon\", \"Pablo\":\"Picasso\"}"
   ]
  },
  {
   "cell_type": "code",
   "execution_count": 49,
   "metadata": {},
   "outputs": [
    {
     "name": "stdout",
     "output_type": "stream",
     "text": [
      "{'Marilyn': 'Monroe', 'Ab': 'Lincoln', 'Nelson': 'Mandela', 'Charles': 'Darwin', 'Rosa': 'Parks', 'John': 'Lennon', 'Pablo': 'Picasso'}\n"
     ]
    }
   ],
   "source": [
    "famous.pop(\"Bill\")\n",
    "print(famous)"
   ]
  },
  {
   "cell_type": "code",
   "execution_count": 50,
   "metadata": {},
   "outputs": [
    {
     "name": "stdout",
     "output_type": "stream",
     "text": [
      "{'Marilyn': 'Monroe', 'Ab': 'Lincoln', 'Nelson': 'Mandela', 'Charles': 'Darwin', 'Rosa': 'Parks', 'Pablo': 'Picasso'}\n"
     ]
    }
   ],
   "source": [
    "famous.pop(\"John\")\n",
    "print(famous)"
   ]
  },
  {
   "cell_type": "code",
   "execution_count": 51,
   "metadata": {},
   "outputs": [
    {
     "name": "stdout",
     "output_type": "stream",
     "text": [
      "{'Marilyn': 'Monroe', 'Ab': 'Lincoln', 'Nelson': 'Mandela', 'Charles': 'Darwin', 'Rosa': 'Parks'}\n"
     ]
    }
   ],
   "source": [
    "famous.popitem()\n",
    "print(famous)"
   ]
  },
  {
   "cell_type": "markdown",
   "metadata": {},
   "source": [
    "# Advanced Review Exercise #1\n",
    "\n",
    "Create a Mad Libs using Python. Find a Mad Libs template online (this will look like a story that is missing several key words). Use that template to design a program that asks a user for input on all of the missing values within the Mad Libs. Then, once you have all the needed input -- print the Mad Libs using a formatted string. "
   ]
  },
  {
   "cell_type": "code",
   "execution_count": null,
   "metadata": {},
   "outputs": [],
   "source": [
    "#Name _____________________________ Date _____________________ \n",
    "1 \n",
    "Mad Libs \n",
    "Worksheet\n",
    "A Day At The Zoo!\n",
    "Today I went to the zoo. I saw a(n) \n",
    "___________(adjective)\n",
    "_____________(Noun) jumping up and down in its tree. \n",
    "He _____________(verb, past tense) __________(adverb) \n",
    "through the large tunnel that led to its _______(adjective) \n",
    "__________(noun). I got some peanuts and passed \n",
    "them through the cage to a gigantic gray _______(noun)\n",
    "towering above my head. Feeding that animal made \n",
    "me hungry. I went to get a __________(adjective) scoop \n",
    "of ice cream. It filled my stomach. Afterwards I had to \n",
    "__________(verb) __________ (adverb) to catch our bus. \n",
    "When I got home I __________(verb, past tense) my \n",
    "mom for a __________(adjective) day at the zoo."
   ]
  },
  {
   "cell_type": "code",
   "execution_count": 62,
   "metadata": {},
   "outputs": [
    {
     "name": "stdout",
     "output_type": "stream",
     "text": [
      "Please enter your name: Ed\n",
      "Please enter the date: 1/12/21\n",
      "Please enter an adjective: happy\n",
      "Please enter a noun: Girl\n",
      "Please enter a verb in the past tense: swam\n",
      "Please enter an adverb: slowly\n",
      "Please enter another adjective: sad\n",
      "Please enter another noun: Bus\n",
      "Please enter a third noun: swing\n",
      "Please enter a third adjective: fast\n",
      "Please enter a verb: run\n",
      "Please enter another adverb: gingerly\n",
      "Please enter another verb in the past tense: worked\n",
      "Please enter a fourth adjective: brightly\n"
     ]
    }
   ],
   "source": [
    "name = input(\"Please enter your name: \")\n",
    "date = input(\"Please enter the date: \")\n",
    "adjective1 = input(\"Please enter an adjective: \")\n",
    "noun1 = input(\"Please enter a noun: \")\n",
    "verb_pt = input(\"Please enter a verb in the past tense: \")\n",
    "adverb1 = input(\"Please enter an adverb: \")\n",
    "adjective2 = input(\"Please enter another adjective: \")\n",
    "noun2 = input(\"Please enter another noun: \")\n",
    "noun3 = input(\"Please enter a third noun: \")\n",
    "adjective3 = input(\"Please enter a third adjective: \")\n",
    "verb = input(\"Please enter a verb: \")\n",
    "adverb2 = input(\"Please enter another adverb: \")\n",
    "verb_pt2 = input(\"Please enter another verb in the past tense: \")\n",
    "adjective4 = input(\"Please enter a fourth adjective: \")\n",
    "              "
   ]
  },
  {
   "cell_type": "code",
   "execution_count": 72,
   "metadata": {},
   "outputs": [
    {
     "name": "stdout",
     "output_type": "stream",
     "text": [
      "Name Ed Date 1/12/21 \n",
      "Mad Libs \n",
      "Worksheet \n",
      "A Day at the zoo! \n",
      "Today I went to the zoo. I saw a \n",
      "happy \n",
      "Girl jumping up and down in its tree. \n",
      "He swam slowly \n",
      "through the large tunnel that let to its sad \n",
      "Bus. I got some peanuts and passed \n",
      "them through the cage to a gigantic gray swing \n",
      "towering above my head. Feeding that animalmade \n",
      "me hungry. I went to get a fast scoop \n",
      "of ice cream. It filled my stomach. Afterwards I had to \n",
      "run gingerly to catch our bus. \n",
      "When I got home I worked my \n",
      "momfor a brightly day at the zoo.\n"
     ]
    }
   ],
   "source": [
    "mad_libs = (f\"Name {name} Date {date} \\nMad Libs \\nWorksheet \\nA Day at the zoo! \\nToday I went to the zoo.\"\n",
    "            f\" I saw a \\n{adjective1} \\n{noun1} jumping up and down in its tree. \\nHe {verb_pt} {adverb1} \\n\"\n",
    "            f\"through the large tunnel that let to its {adjective2} \\n{noun2}. I got some peanuts and passed \\n\"\n",
    "            f\"them through the cage to a gigantic gray {noun3} \\ntowering above my head. Feeding that animal \"\n",
    "            f\"made \\nme hungry. I went to get a {adjective3} scoop \\nof ice cream. It filled my stomach. \"\n",
    "            f\"Afterwards I had to \\n{verb} {adverb2} to catch our bus. \\nWhen I got home I {verb_pt2} my \\nmom\"\n",
    "            f\" for a {adjective4} day at the zoo.\")\n",
    "print(mad_libs)"
   ]
  },
  {
   "cell_type": "markdown",
   "metadata": {},
   "source": [
    "# Advanced Review Exercise #2\n",
    "\n",
    "Create a program where the user can play a game of rock, paper, scissors against a computer. Set a play choice (rock, paper, or scissors) for the computer player and during the program, request for the user to input their play choice.\n",
    "\n",
    "The rules in Rock, Paper, Scissors are:\n",
    "\n",
    "Rock beats scissors\n",
    "Scissors beats paper\n",
    "Paper beats rock\n",
    "If the user wins, then display \"You win!\" If they lose against the computer, then display \"You lose.\" If the computer and the user have the same play choice, display \"It's a draw.\"\n",
    "\n",
    "<b>BONUS</b>: Randomize the play choice for the computer (hint: Python has a library called random). Also ask the user if they would like to play again. If they do, start the game again but if not, thank the user for playing the game."
   ]
  },
  {
   "cell_type": "code",
   "execution_count": null,
   "metadata": {},
   "outputs": [],
   "source": [
    "#Basic Game\n",
    "choice = input(\"Please enter your choice: Rock, Paper or Scissors:  \")\n",
    "if choice == \"Rock\":\n",
    "    print(\"You lose.\")\n",
    "elif choice == \"Paper\":\n",
    "    print(\"It's a draw.\")\n",
    "else:\n",
    "    print(\"You win!\")"
   ]
  },
  {
   "cell_type": "code",
   "execution_count": 22,
   "metadata": {},
   "outputs": [
    {
     "name": "stdout",
     "output_type": "stream",
     "text": [
      "Please enter your choice: Rock, Paper or Scissors: Paper\n",
      "You lose.\n"
     ]
    }
   ],
   "source": [
    "import random as rand\n",
    "\n",
    "choices = [\"Rock\", \"Paper\", \"Scissors\"]\n",
    "comp_choice = rand.choice(choices)\n",
    "\n",
    "your_choice = input(\"Please enter your choice: Rock, Paper or Scissors: \")\n",
    "\n",
    "if your_choice == comp_choice:\n",
    "    print(\"It's a draw\")\n",
    "elif your_choice == \"Rock\":\n",
    "    if comp_choice == \"Paper\":\n",
    "        print(\"You lose\")\n",
    "    else:\n",
    "        print(\"You win!\")\n",
    "elif your_choice == \"Paper\":\n",
    "    if comp_choice == \"Scissors\":\n",
    "        print(\"You lose.\")\n",
    "    else:\n",
    "        print(\"You win!\")\n",
    "elif your_choice == \"Scissors\":\n",
    "    if comp_choice == \"Rock\":\n",
    "        print(\"You lose.\")\n",
    "    else:\n",
    "        print(\"You win!\")\n",
    "        "
   ]
  },
  {
   "cell_type": "markdown",
   "metadata": {},
   "source": [
    "# Advanced Review #3\n",
    "\n",
    "Create a program similar to the gameshow \"Who Wants to Be a Millionaire!\". Start by asking the user for their name, greeting them, and using their specific name throughout the program. \n",
    "\n",
    "Create a trivia program where a user is presented with a series of questions and asked to enter a response; if the response if correct, the user gains 100 points; if the response is incorrect, the user gets an \"X\" and does not gain any additional points. If the user gets 3 X's, they lose! Ask the user at least 15 questions. At the end of the game, calculate the users total score and present the answer to the user. \n",
    "\n",
    "Use the following source for trivia questions: https://www.opinionstage.com/blog/trivia-questions/"
   ]
  },
  {
   "cell_type": "code",
   "execution_count": 18,
   "metadata": {},
   "outputs": [
    {
     "name": "stdout",
     "output_type": "stream",
     "text": [
      "Welcome to the show! What is your name? Hank\n",
      "Hello, Hank. We are now going to ask you a number of questions!!!\n",
      "Which email service is owned by Microsoft? hotmail\n",
      "What is often seen as the smallest unit of memory? kilobyte\n",
      "Who is often called the father of the computer? Charles Babbage\n",
      "Who discovered penicillin? Alexander Fleming\n",
      "What part of the atom has no electric charge? Neutron\n",
      "Which planet is the hottest in the solar system? Venus\n",
      "Which Avenger is the only one who could calm the Hulk down? Black Widow\n",
      "What is the name of Batman’s butler? Alfred\n",
      "In what year was the first episode of South Park aired? 1997\n",
      "Which popular TV show featured house Targaryen and Stark? Game of Thrones\n",
      "Which actor appeared in films “Face Off” and “Ghost Rider”? Nicolas Cage\n",
      "In which year did Usain Bolt set his 100m in 9.58 seconds world record? 2009\n",
      "What is the longest-running Broadway show? The Phantom of the Opera\n",
      "Which show is the highest-grossing production on Broadway ever? The Lion King\n",
      "Which Williams sister has won more Grand Slam titles? Serena\n",
      "Great job Hank, you just scored 1400 points!\n"
     ]
    }
   ],
   "source": [
    "name = input(\"Welcome to the show! What is your name? \")\n",
    "print(f\"Hello, {name}. We are now going to ask you a number of questions!!!\")\n",
    "\n",
    "x = 0\n",
    "a = 0\n",
    "\n",
    "qu1 = input(\"Which email service is owned by Microsoft? \")\n",
    "ans1 = \"hotmail\"\n",
    "if qu1 == ans1:\n",
    "    x = x + 100\n",
    "else:\n",
    "    a = a + 1\n",
    "\n",
    "qu2 = input(\"What is often seen as the smallest unit of memory? \")\n",
    "ans2 = \"kilobyte\"\n",
    "if qu2 == ans2:\n",
    "    x = x + 100\n",
    "else:\n",
    "    a = a + 1\n",
    "    \n",
    "qu3 = input(\"Who is often called the father of the computer? \")\n",
    "ans3 = \"Charles Babbage\"\n",
    "if qu3 == ans3:\n",
    "    x = x + 100\n",
    "else:\n",
    "    a = a + 1\n",
    "\n",
    "qu4 = input(\"Who discovered penicillin? \")\n",
    "ans4 = \"Alexander Fleming\"\n",
    "if qu4 == ans4:\n",
    "    x = x + 100\n",
    "else:\n",
    "    a = a + 1\n",
    "    \n",
    "qu5 = input(\"What part of the atom has no electric charge? \")\n",
    "ans5 = \"Neutron\"\n",
    "if qu5 == ans5:\n",
    "    x = x + 100\n",
    "else:\n",
    "    a = a + 1\n",
    "    \n",
    "qu6 = input(\"Which planet is the hottest in the solar system? \")\n",
    "ans6 = \"Venus\"\n",
    "if qu6 == ans6:\n",
    "    x = x + 100\n",
    "else:\n",
    "    a = a + 1\n",
    "    \n",
    "qu7 = input(\"Which Avenger is the only one who could calm the Hulk down? \")\n",
    "ans7 = \"Black Widow\"\n",
    "if qu7 == ans7:\n",
    "    x = x + 100\n",
    "else:\n",
    "    a = a + 1\n",
    "    \n",
    "qu8 = input(\"What is the name of Batman’s butler? \")\n",
    "ans8 = \"Alfred\"\n",
    "if qu8 == ans8:\n",
    "    x = x + 100\n",
    "else:\n",
    "    a = a + 1\n",
    "    \n",
    "qu9 = input(\"In what year was the first episode of South Park aired? \")\n",
    "ans9 = \"1997\"\n",
    "if qu9 == ans9:\n",
    "    x = x + 100\n",
    "else:\n",
    "    a = a + 1\n",
    "    \n",
    "qu10 = input(\"Which popular TV show featured house Targaryen and Stark? \")\n",
    "ans10 = \"Game of Thrones\"\n",
    "if qu10 == ans10:\n",
    "    x = x + 100\n",
    "else:\n",
    "    a = a + 1\n",
    "    \n",
    "qu11 = input(\"Which actor appeared in films “Face Off” and “Ghost Rider”? \")\n",
    "ans11 = \"Nicholas Cage\"\n",
    "if qu11 == ans11:\n",
    "    x = x + 100\n",
    "else:\n",
    "    a = a + 1\n",
    "    \n",
    "qu12 = input(\"In which year did Usain Bolt set his 100m in 9.58 seconds world record? \")\n",
    "ans12 = \"2009\"\n",
    "if qu12 == ans12:\n",
    "    x = x + 100\n",
    "else:\n",
    "    a = a + 1\n",
    "    \n",
    "qu13 = input(\"What is the longest-running Broadway show? \")\n",
    "ans13 = \"The Phantom of the Opera\"\n",
    "if qu13 == ans13:\n",
    "    x = x + 100\n",
    "else:\n",
    "    a = a + 1\n",
    "     \n",
    "qu14 = input(\"Which show is the highest-grossing production on Broadway ever? \")\n",
    "ans14 = \"The Lion King\"\n",
    "if qu14 == ans14:\n",
    "    x = x + 100\n",
    "else:\n",
    "    a = a + 1\n",
    "    \n",
    "qu15 = input(\"Which Williams sister has won more Grand Slam titles? \")\n",
    "ans15 = \"Serena\"\n",
    "if qu15 == ans15:\n",
    "    x = x + 100\n",
    "else:\n",
    "    a = a + 1\n",
    "       \n",
    "if a >= 3:\n",
    "    print(f\"Sorry {name}, you lost.\")\n",
    "else:\n",
    "    print(f\"Great job {name}, you just scored {x} points!\")"
   ]
  },
  {
   "cell_type": "code",
   "execution_count": null,
   "metadata": {},
   "outputs": [],
   "source": []
  }
 ],
 "metadata": {
  "kernelspec": {
   "display_name": "Python 3",
   "language": "python",
   "name": "python3"
  },
  "language_info": {
   "codemirror_mode": {
    "name": "ipython",
    "version": 3
   },
   "file_extension": ".py",
   "mimetype": "text/x-python",
   "name": "python",
   "nbconvert_exporter": "python",
   "pygments_lexer": "ipython3",
   "version": "3.7.6"
  }
 },
 "nbformat": 4,
 "nbformat_minor": 5
}
